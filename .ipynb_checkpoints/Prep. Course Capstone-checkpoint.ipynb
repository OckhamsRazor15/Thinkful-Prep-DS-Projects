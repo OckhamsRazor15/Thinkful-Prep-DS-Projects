{
 "cells": [
  {
   "cell_type": "markdown",
   "metadata": {},
   "source": [
    "# Prep Course Capstone - Uncovering a road to Manchester City's Championship season (and what Liverpool can do to catch up)"
   ]
  },
  {
   "cell_type": "code",
   "execution_count": 17,
   "metadata": {},
   "outputs": [],
   "source": [
    "import pandas as pd\n",
    "import numpy as np\n",
    "import matplotlib.pyplot as plt\n",
    "import seaborn as sns\n",
    "%matplotlib inline"
   ]
  },
  {
   "cell_type": "code",
   "execution_count": 34,
   "metadata": {
    "scrolled": false
   },
   "outputs": [],
   "source": [
    "#load data\n",
    "pl = pd.read_csv(\"pl1718.csv\")\n",
    "#plt.figure(figsize=(5,5))\n",
    "#pg = sns.heatmap(pl.corr(), annot=True, cmap='Blues')\n",
    "#plt.show()"
   ]
  },
  {
   "cell_type": "code",
   "execution_count": 36,
   "metadata": {},
   "outputs": [
    {
     "name": "stdout",
     "output_type": "stream",
     "text": [
      "   Season       Date        HomeTeam      AwayTeam  FTHG  FTAG FTR  HTHG  \\\n",
      "0      18  11/8/2017         Arsenal     Leicester     4     3   H     2   \n",
      "1      18  12/8/2017        Brighton      Man City     0     2   A     0   \n",
      "2      18  12/8/2017         Chelsea       Burnley     2     3   A     0   \n",
      "3      18  12/8/2017  Crystal Palace  Huddersfield     0     3   A     0   \n",
      "4      18  12/8/2017         Everton         Stoke     1     0   H     1   \n",
      "\n",
      "   HTAG HTR ... HST  AST  HF  AF  HC  AC  HY  AY  HR  AR  \n",
      "0     2   D ...  10    3   9  12   9   4   0   1   0   0  \n",
      "1     0   D ...   2    4   6   9   3  10   0   2   0   0  \n",
      "2     3   A ...   6    5  16  11   8   5   3   3   2   0  \n",
      "3     2   A ...   4    6   7  19  12   9   1   3   0   0  \n",
      "4     0   H ...   4    1  13  10   6   7   1   1   0   0  \n",
      "\n",
      "[5 rows x 23 columns]\n"
     ]
    }
   ],
   "source": [
    "#data prep\n",
    "#create buckets for the numbers\n",
    "home_city = []\n",
    "away_city = []\n",
    "home_lfc = []\n",
    "away_lfc = []\n",
    "#rename df\n",
    "teams = pl\n",
    "\n",
    "#iterate over the teams df and pull out all rows related to either Man City or Liverpool. \n",
    "# splits them into home and away game sets\n",
    "for index, row in teams.iterrows():\n",
    "    if row['HomeTeam'] == 'Man City':\n",
    "        home_city.append(row)\n",
    "    elif row['HomeTeam'] == 'Liverpool':\n",
    "        home_lfc.append(row)\n",
    "\n",
    "    if row['AwayTeam'] == 'Man City':\n",
    "        away_city.append(row)\n",
    "    elif row['AwayTeam'] == 'Liverpool':\n",
    "        away_lfc.append(row)"
   ]
  },
  {
   "cell_type": "markdown",
   "metadata": {},
   "source": [
    "## Data"
   ]
  },
  {
   "cell_type": "markdown",
   "metadata": {},
   "source": [
    "The dataset I am working with is an aggregation from the 2016/17 and 2017/18 English Premier League seasons. The data was released by Football-Data.co.uk in 2 different csv files. The data represents statistics from all matches played in both seasons. The significance of looking at only 2 seasons is because the manager of Manchester City took over in the former season. Liverpool's coach was also the same in that period. \n",
    "\n",
    "These 2 coaches (Pep Guardiola - Man. City and Jurgen Klopp - Liverpool) have faced off before in the German 1st division (Bundesliga). While this data will not uncover all of the reasons behind Man. City's championship season in 17/18, it will provide a look into a slice. \n",
    "\n",
    "The reason this dataset interests me is because as an LFC (Liverpool FC) fan, I'm curious to see what LFC will need to do in order to make the step up and win the league.\n",
    "\n",
    "The English Premier league also does not have a playoff system like most, if not all, American sports. The title (or championship) goes to the team with the most points after the 38 game season. A team receives 3 points for a win, 1 for a tie, and 0 for a loss.\n",
    "\n",
    "The data contains game date, home team, away team, Full Time Home Team Goals, Full Time Away Team Goals,  Full Time Result, Half Time Home Team Goals, Half Time Away Team Goals, Half Time Result, Crowd Attendance, Match Referee, Home Team Shots, Away Team Shots, Home Team Shots on Target, Away Team Shots on Target, Home Team Hit Woodwork, Away Team Hit Woodwork, Home Team Corners, Away Team Corners, Home Team Fouls Committed, Away Team Fouls Committed, Home Team Free Kicks Conceded, Away Team Free Kicks Conceded, Home Team Offsides, Away Team Offsides, Home Team Yellow Cards, Away Team Yellow Cards, Home Team Red Cards, Away Team Red Cards"
   ]
  },
  {
   "cell_type": "markdown",
   "metadata": {},
   "source": [
    "# Analytics"
   ]
  },
  {
   "cell_type": "markdown",
   "metadata": {},
   "source": [
    "## 1. In the past 2 seasons, what are the records of each manager? Are there any points where they vary quite a bit?\n"
   ]
  },
  {
   "cell_type": "code",
   "execution_count": null,
   "metadata": {},
   "outputs": [],
   "source": []
  }
 ],
 "metadata": {
  "kernelspec": {
   "display_name": "Python 3",
   "language": "python",
   "name": "python3"
  },
  "language_info": {
   "codemirror_mode": {
    "name": "ipython",
    "version": 3
   },
   "file_extension": ".py",
   "mimetype": "text/x-python",
   "name": "python",
   "nbconvert_exporter": "python",
   "pygments_lexer": "ipython3",
   "version": "3.6.4"
  }
 },
 "nbformat": 4,
 "nbformat_minor": 2
}
