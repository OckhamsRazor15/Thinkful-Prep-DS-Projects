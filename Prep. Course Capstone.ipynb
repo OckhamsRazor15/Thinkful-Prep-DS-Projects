{
 "cells": [
  {
   "cell_type": "markdown",
   "metadata": {},
   "source": [
    "# Prep Course Capstone - Uncovering a road to Manchester City's Championship season (and what Liverpool can do to catch up)"
   ]
  },
  {
   "cell_type": "code",
   "execution_count": 1,
   "metadata": {},
   "outputs": [],
   "source": [
    "import pandas as pd\n",
    "import numpy as np\n",
    "import matplotlib.pyplot as plt\n",
    "%matplotlib inline"
   ]
  },
  {
   "cell_type": "code",
   "execution_count": 6,
   "metadata": {},
   "outputs": [],
   "source": [
    "#load data\n",
    "pl = pd.read_csv(\"pl1718.csv\")\n",
    "#pl.head()"
   ]
  },
  {
   "cell_type": "markdown",
   "metadata": {},
   "source": [
    "## Data"
   ]
  },
  {
   "cell_type": "markdown",
   "metadata": {},
   "source": [
    "The dataset I am working with is an aggregation from the 2016/17 and 2017/18 English Premier League seasons. The data was released by Football-Data.co.uk in 2 different csv files. The data represents statistics from all matches played in both seasons. The significance of looking at only 2 seasons is because the manager of Manchester City took over in the former season. Liverpool's coach was also the same in that period. \n",
    "\n",
    "These 2 coaches (Pep Guardiola - Man. City and Jurgen Klopp - Liverpool) have faced off before in the German 1st division (Bundesliga). While this data will not uncover all of the reasons behind Man. City's championship season in 17/18, it will provide a look into a slice. \n",
    "\n",
    "The reason this dataset interests me is because as an LFC (Liverpool FC) fan, I'm curious to see what LFC will need to do in order to make the step up and win the league.\n",
    "\n",
    "The English Premier league also does not have a playoff system like most, if not all, American sports. The title (or championship) goes to the team with the most points after the 38 game season. A team receives 3 points for a win, 1 for a tie, and 0 for a loss.\n",
    "\n",
    "The data contains game date, home team, away team, Full Time Home Team Goals, Full Time Away Team Goals,  Full Time Result, Half Time Home Team Goals, Half Time Away Team Goals, Half Time Result, Crowd Attendance, Match Referee, Home Team Shots, Away Team Shots, Home Team Shots on Target, Away Team Shots on Target, Home Team Hit Woodwork, Away Team Hit Woodwork, Home Team Corners, Away Team Corners, Home Team Fouls Committed, Away Team Fouls Committed, Home Team Free Kicks Conceded, Away Team Free Kicks Conceded, Home Team Offsides, Away Team Offsides, Home Team Yellow Cards, Away Team Yellow Cards, Home Team Red Cards, Away Team Red Cards"
   ]
  },
  {
   "cell_type": "markdown",
   "metadata": {},
   "source": [
    "# Analytics"
   ]
  },
  {
   "cell_type": "markdown",
   "metadata": {},
   "source": [
    "## 1. In the past 2 seasons, what are the records of each manager? Are there any points where they vary quite a bit?\n"
   ]
  },
  {
   "cell_type": "code",
   "execution_count": null,
   "metadata": {},
   "outputs": [],
   "source": []
  }
 ],
 "metadata": {
  "kernelspec": {
   "display_name": "Python 3",
   "language": "python",
   "name": "python3"
  },
  "language_info": {
   "codemirror_mode": {
    "name": "ipython",
    "version": 3
   },
   "file_extension": ".py",
   "mimetype": "text/x-python",
   "name": "python",
   "nbconvert_exporter": "python",
   "pygments_lexer": "ipython3",
   "version": "3.6.4"
  }
 },
 "nbformat": 4,
 "nbformat_minor": 2
}
